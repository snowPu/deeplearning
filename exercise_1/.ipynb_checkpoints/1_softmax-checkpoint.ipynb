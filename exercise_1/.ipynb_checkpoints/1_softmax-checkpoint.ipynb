{
 "cells": [
  {
   "cell_type": "markdown",
   "metadata": {},
   "source": [
    "# Linear Classification with Softmax Loss\n",
    "\n",
    "In this exercise you will:\n",
    "\n",
    "- implement a fully-vectorized **loss function** for the Softmax classifier\n",
    "- implement the fully-vectorized expression for its **analytic gradient**\n",
    "- **check your implementation** with numerical gradient\n",
    "- use a validation set to **tune the learning rate and regularization** strength\n",
    "- **optimize** the loss function with **SGD**\n",
    "- **visualize** the final learned weights\n"
   ]
  },
  {
   "cell_type": "code",
   "execution_count": null,
   "metadata": {},
   "outputs": [],
   "source": [
    "import time\n",
    "import random\n",
    "import math\n",
    "import numpy as np\n",
    "from dl4cv.model_savers import save_softmax_classifier\n",
    "import matplotlib.pyplot as plt\n",
    "%matplotlib inline\n",
    "plt.rcParams['figure.figsize'] = (10.0, 8.0) # set default size of plots\n",
    "plt.rcParams['image.interpolation'] = 'nearest'\n",
    "plt.rcParams['image.cmap'] = 'gray'\n",
    "\n",
    "# for auto-reloading extenrnal modules\n",
    "# see http://stackoverflow.com/questions/1907993/autoreload-of-modules-in-ipython\n",
    "%load_ext autoreload\n",
    "%autoreload 2"
   ]
  },
  {
   "cell_type": "markdown",
   "metadata": {},
   "source": [
    "## CIFAR-10 Data Loading and Preprocessing\n",
    "\n",
    "To your convenience, we have taken care of all the input handling. Nevertheless, you should go through the code line by line so that you understand the general preprocessing pipeline.\n",
    "The whole datasat is loaded, then subdivided into a training, validation and test dataset (the last one is different from the final evaluation dataset on our server!).\n",
    "Before proceeding you should *always* take a look at some samples of your dataset, which is already implemented for you. This way you can make sure that the data input/preprocessing has worked as intended and you can get a feeling for the dataset."
   ]
  },
  {
   "cell_type": "code",
   "execution_count": null,
   "metadata": {
    "collapsed": true,
    "scrolled": true
   },
   "outputs": [],
   "source": [
    "from dl4cv.data_utils import load_CIFAR10\n",
    "# Load the raw CIFAR-10 data\n",
    "cifar10_dir = 'datasets/'\n",
    "X, y = load_CIFAR10(cifar10_dir)"
   ]
  },
  {
   "cell_type": "code",
   "execution_count": null,
   "metadata": {},
   "outputs": [],
   "source": [
    "# Visualize some examples from the dataset.\n",
    "# We show a few examples of training images from each class.\n",
    "classes = ['plane', 'car', 'bird', 'cat', 'deer', 'dog', 'frog', 'horse', 'ship', 'truck']\n",
    "num_classes = len(classes)\n",
    "samples_per_class = 7\n",
    "for y_hat, cls in enumerate(classes):\n",
    "   # print(\"y= \" , y)\n",
    "    #print(\"yhat= \" , y_hat)\n",
    "    #print(y==y_hat)\n",
    "    idxs = np.flatnonzero(y == y_hat)\n",
    "    idxs = np.random.choice(idxs, samples_per_class, replace=False)\n",
    "    for i, idx in enumerate(idxs):\n",
    "        plt_idx = i * num_classes + y_hat + 1\n",
    "        plt.subplot(samples_per_class, num_classes, plt_idx)\n",
    "        plt.imshow(X[idx].astype('uint8'))\n",
    "        plt.axis('off')\n",
    "        if i == 0:\n",
    "            plt.title(cls)\n",
    "plt.show()"
   ]
  },
  {
   "cell_type": "code",
   "execution_count": null,
   "metadata": {
    "collapsed": true,
    "scrolled": true
   },
   "outputs": [],
   "source": [
    "# Split the data into train, val, and test sets. In addition we will\n",
    "# create a small development set as a subset of the data set;\n",
    "# we can use this for development so our code runs faster.\n",
    "num_training = 48000\n",
    "num_validation = 1000\n",
    "num_test = 1000\n",
    "num_dev = 500\n",
    "\n",
    "assert (num_training + num_validation + num_test) == 50000, 'You have not provided a valid data split.'\n",
    "\n",
    "# Our training set will be the first num_train points from the original\n",
    "# training set.\n",
    "mask = range(num_training)\n",
    "\n",
    "X_train = X[mask]\n",
    "y_train = y[mask]\n",
    "\n",
    "# Our validation set will be num_validation points from the original\n",
    "# training set.\n",
    "mask = range(num_training, num_training + num_validation)\n",
    "X_val = X[mask]\n",
    "y_val = y[mask]\n",
    "\n",
    "# We use a small subset of the training set as our test set.\n",
    "mask = range(num_training + num_validation, num_training + num_validation + num_test)\n",
    "X_test = X[mask]\n",
    "y_test = y[mask]\n",
    "\n",
    "# We will also make a development set, which is a small subset of\n",
    "# the training set. This way the development cycle is faster.\n",
    "mask = np.random.choice(num_training, num_dev, replace=False)\n",
    "X_dev = X_train[mask]\n",
    "y_dev = y_train[mask]"
   ]
  },
  {
   "cell_type": "code",
   "execution_count": null,
   "metadata": {
    "scrolled": true
   },
   "outputs": [],
   "source": [
    "# Preprocessing: reshape the image data into rows\n",
    "X_train = np.reshape(X_train, (X_train.shape[0], -1))\n",
    "\n",
    "print(X_train)\n",
    "\n",
    "X_val = np.reshape(X_val, (X_val.shape[0], -1))\n",
    "X_test = np.reshape(X_test, (X_test.shape[0], -1))\n",
    "X_dev = np.reshape(X_dev, (X_dev.shape[0], -1))\n",
    "\n",
    "# As a sanity check, print out the shapes of the data\n",
    "print('Training data shape: ', X_train.shape)\n",
    "print('Validation data shape: ', X_val.shape)\n",
    "print('Test data shape: ', X_test.shape)\n",
    "print('dev data shape: ', X_dev.shape)"
   ]
  },
  {
   "cell_type": "code",
   "execution_count": null,
   "metadata": {
    "scrolled": true
   },
   "outputs": [],
   "source": [
    "# Preprocessing: subtract the mean image\n",
    "# first: compute the image mean based on the training data\n",
    "mean_image = np.mean(X_train, axis=0)\n",
    "print(mean_image[:10]) # print a few of the elements\n",
    "plt.figure(figsize=(4,4))\n",
    "plt.imshow(mean_image.reshape((32,32,3)).astype('uint8')) # visualize the mean image\n",
    "plt.show()"
   ]
  },
  {
   "cell_type": "code",
   "execution_count": null,
   "metadata": {
    "collapsed": true,
    "scrolled": true
   },
   "outputs": [],
   "source": [
    "# second: subtract the mean image from train and test data\n",
    "X_train -= mean_image\n",
    "X_val -= mean_image\n",
    "X_test -= mean_image\n",
    "X_dev -= mean_image"
   ]
  },
  {
   "cell_type": "code",
   "execution_count": null,
   "metadata": {
    "scrolled": true
   },
   "outputs": [],
   "source": [
    "# third: append the bias dimension of ones (i.e. bias trick) so that our classifier\n",
    "# only has to worry about optimizing a single weight matrix W.\n",
    "X_train = np.hstack([X_train, np.ones((X_train.shape[0], 1))])\n",
    "X_val = np.hstack([X_val, np.ones((X_val.shape[0], 1))])\n",
    "X_test = np.hstack([X_test, np.ones((X_test.shape[0], 1))])\n",
    "X_dev = np.hstack([X_dev, np.ones((X_dev.shape[0], 1))])\n",
    "\n",
    "print(X_train.shape, X_val.shape, X_test.shape, X_dev.shape)\n",
    "print(y_dev.shape)"
   ]
  },
  {
   "cell_type": "markdown",
   "metadata": {},
   "source": [
    "## Softmax Classifier\n",
    "\n",
    "Your code for this section will all be written inside `dl4cv/classifiers/softmax.py`. \n",
    "You will implement the gradient of the loss function with respect to the classifier's weights. We suggest that you first derive these expressions on paper.\n",
    "# Here\n",
    "def softmax_loss_naive(W, X_dev, y_dev, acc):\n",
    "    WT = np.transpose(W)\n",
    "    XT = np.transpose(X_dev)\n",
    "    SF = np.matmul(WT, XT)\n",
    "    SF = np.transpose(SF)\n",
    "    loss_matrix = []\n",
    "    for count, imagescore in enumerate(SF):\n",
    "        unnormal_prob = np.exp(imagescore)\n",
    "        sum_unnormal_prob = np.sum(unnormal_prob)\n",
    "        # normalizer = lambda x,s: x / s\n",
    "        # normalizer_v = np.vectorize(normalizer)\n",
    "        # nor_prob = normalizer_v(unnormal_prob, sum_unnormal_prob)\n",
    "        ground_truth_class = y_dev[count]\n",
    "        nor_prob = unnormal_prob[ground_truth_class]/sum_unnormal_prob\n",
    "        loss = -math.log(nor_prob)\n",
    "        loss_matrix.append(loss)\n",
    "    final_loss = np.average(loss_matrix)\n",
    "    return final_loss, 0"
   ]
  },
  {
   "cell_type": "markdown",
   "metadata": {},
   "source": [
    "### Naive Implementation\n",
    "First implement the naive softmax loss function with nested loops.\n",
    "Open the file `dl4cv/classifiers/softmax.py` and implement the softmax_loss_naive function.\n",
    "Running this method might take a while..."
   ]
  },
  {
   "cell_type": "code",
   "execution_count": null,
   "metadata": {},
   "outputs": [],
   "source": [
    "from dl4cv.classifiers.softmax import softmax_loss_naive\n",
    "\n",
    "# Generate a random softmax weight matrix and use it to compute the loss.\n",
    "W = np.random.randn(3073, 10) * 0.0001\n",
    "print (W.shape)\n",
    "print (y_dev[1])\n",
    "print (X_dev.shape)\n",
    "loss, grad = softmax_loss_naive(W, X_dev, y_dev, 0.0)\n",
    "\n",
    "# As a rough sanity check, our loss should be something close to -log(0.1).\n",
    "print('loss: %f' % loss)\n",
    "print(grad)\n",
    "\n",
    "print('sanity check: %f' % (-np.log(0.1)))"
   ]
  },
  {
   "cell_type": "markdown",
   "metadata": {},
   "source": [
    "<div class=\"alert alert-info\">\n",
    "    <h3>Inline Question</h3>\n",
    "    <p>Why do we expect our loss to be close to -log(0.1)? Explain briefly.</p>\n",
    "</div>"
   ]
  },
  {
   "cell_type": "code",
   "execution_count": null,
   "metadata": {},
   "outputs": [],
   "source": [
    "# Complete the implementation of softmax_loss_naive and implement a (naive)\n",
    "# version of the gradient that uses nested loops.\n",
    "loss, grad = softmax_loss_naive(W, X_dev, y_dev, 0.0)\n",
    "\n",
    "# We use numeric gradient checking as a debugging tool.\n",
    "# The numeric gradient should be close to the analytic gradient.\n",
    "from dl4cv.gradient_check import grad_check_sparse\n",
    "f = lambda w: softmax_loss_naive(w, X_dev, y_dev, 0.0)[0]\n",
    "grad_numerical = grad_check_sparse(f, W, grad, num_checks=3)\n",
    "\n",
    "# Do another gradient check with regularization\n",
    "loss, grad = softmax_loss_naive(W, X_dev, y_dev, 1e2)\n",
    "f = lambda w: softmax_loss_naive(w, X_dev, y_dev, 1e2)[0]\n",
    "grad_numerical = grad_check_sparse(f, W, grad, num_checks=3)\n",
    "\n",
    "# Again, running this might take a while!"
   ]
  },
  {
   "cell_type": "markdown",
   "metadata": {},
   "source": [
    "### Vectorized Implementation\n",
    "Now that we have a naive implementation of the softmax loss function and its gradient, implement a vectorized version in softmax_loss_vectorized.\n",
    "The two versions should compute the same results, but the vectorized version should be much faster."
   ]
  },
  {
   "cell_type": "code",
   "execution_count": 330,
   "metadata": {},
   "outputs": [
    {
     "name": "stdout",
     "output_type": "stream",
     "text": [
      "naive loss: 2.305138e+00 computed in 0.060079s\n",
      "vectorized loss: 2.305138e+00 computed in 0.000000s\n",
      "Loss difference: 0.000000\n",
      "Gradient difference: 0.000000\n"
     ]
    }
   ],
   "source": [
    "tic = time.time()\n",
    "loss_naive, grad_naive = softmax_loss_naive(W, X_dev, y_dev, 0.00001)\n",
    "toc = time.time()\n",
    "print('naive loss: %e computed in %fs' % (loss_naive, toc - tic))\n",
    "\n",
    "from dl4cv.classifiers.softmax import softmax_loss_vectorized\n",
    "tic = time.time()\n",
    "loss_vectorized, grad_vectorized = softmax_loss_vectorized(W, X_dev, y_dev, 0.00001)\n",
    "toc = time.time()\n",
    "print('vectorized loss: %e computed in %fs' % (loss_vectorized, toc - tic))\n",
    "\n",
    "# We use the Frobenius norm to compare the two versions\n",
    "# of the gradient.\n",
    "grad_difference = np.linalg.norm(grad_naive - grad_vectorized, ord='fro')\n",
    "print('Loss difference: %f' % np.abs(loss_naive - loss_vectorized))\n",
    "print('Gradient difference: %f' % grad_difference)"
   ]
  },
  {
   "cell_type": "markdown",
   "metadata": {},
   "source": [
    "<div class=\"alert alert-info\">\n",
    "    <h3>Inline Question</h3>\n",
    "    <p>When you compute the softmax distribution, you are dividing by a sum of exponentials, i.e. potentially very large numbers, which can be numerically unstable. Do you see a way to avoid this problem?\n",
    "</p>\n",
    "    <p>(Hint: exploit properties of the exponential function to arrive at an expression that is mathematically the same, but numerically more stable)</p>\n",
    "</div>"
   ]
  },
  {
   "cell_type": "markdown",
   "metadata": {},
   "source": [
    "### Stochastic Gradient Descent\n",
    "\n",
    "We now have vectorized and efficient expressions for the loss, the gradient and our gradient matches the numerical gradient. We are therefore ready to do SGD to minimize the loss."
   ]
  },
  {
   "cell_type": "code",
   "execution_count": 334,
   "metadata": {
    "scrolled": true
   },
   "outputs": [
    {
     "name": "stdout",
     "output_type": "stream",
     "text": [
      "iteration 0 / 1500: loss 1543.407762\n",
      "iteration 100 / 1500: loss 565.632149\n",
      "iteration 200 / 1500: loss 208.333921\n",
      "iteration 300 / 1500: loss 77.557093\n",
      "iteration 400 / 1500: loss 29.793258\n",
      "iteration 500 / 1500: loss 12.274097\n",
      "iteration 600 / 1500: loss 5.897301\n",
      "iteration 700 / 1500: loss 3.471902\n",
      "iteration 800 / 1500: loss 2.632336\n",
      "iteration 900 / 1500: loss 2.362417\n",
      "iteration 1000 / 1500: loss 2.258358\n",
      "iteration 1100 / 1500: loss 2.152171\n",
      "iteration 1200 / 1500: loss 2.207358\n",
      "iteration 1300 / 1500: loss 2.142672\n",
      "iteration 1400 / 1500: loss 2.201920\n",
      "That took 4.878766s\n"
     ]
    }
   ],
   "source": [
    "# In the file linear_classifier.py, implement SGD in the function\n",
    "# LinearClassifier.train() and then run it with the code below.\n",
    "from dl4cv.classifiers import Softmax\n",
    "softmax = Softmax()\n",
    "tic = time.time()\n",
    "loss_hist = softmax.train(X_train, y_train, learning_rate=1e-7, reg=1.000000e+01,\n",
    "                      num_iters=1500, verbose=True)\n",
    "toc = time.time()\n",
    "print('That took %fs' % (toc - tic))"
   ]
  },
  {
   "cell_type": "code",
   "execution_count": 291,
   "metadata": {
    "scrolled": true
   },
   "outputs": [
    {
     "data": {
      "image/png": "[encoded data removed]",
      "text/plain": [
       "<matplotlib.figure.Figure at 0x251dfac4f98>"
      ]
     },
     "metadata": {},
     "output_type": "display_data"
    }
   ],
   "source": [
    "# A useful debugging strategy is to plot the loss as a function of\n",
    "# iteration number:\n",
    "plt.figure(figsize=(6,5))\n",
    "plt.plot(loss_hist)\n",
    "plt.xlabel('Iteration number')\n",
    "plt.ylabel('Loss value')\n",
    "plt.show()"
   ]
  },
  {
   "cell_type": "code",
   "execution_count": 312,
   "metadata": {
    "scrolled": true
   },
   "outputs": [
    {
     "name": "stdout",
     "output_type": "stream",
     "text": [
      "training accuracy: 0.239458\n",
      "validation accuracy: 0.227000\n"
     ]
    }
   ],
   "source": [
    "# Write the LinearClassifier.predict function and evaluate the performance on both the\n",
    "# training and validation set\n",
    "y_train_pred = softmax.predict(X_train)\n",
    "print('training accuracy: %f' % (np.mean(y_train == y_train_pred), ))\n",
    "y_val_pred = softmax.predict(X_val)\n",
    "print('validation accuracy: %f' % (np.mean(y_val == y_val_pred), ))"
   ]
  },
  {
   "cell_type": "markdown",
   "metadata": {},
   "source": [
    "### Training your Softmax Classifier\n",
    "Use the validation set to tune hyperparameters (regularization strength and learning rate). You should experiment with different ranges for the learning rates and regularization strengths; if you are careful you should be able to get a classification accuracy of over 0.35 on the validation set."
   ]
  },
  {
   "cell_type": "code",
   "execution_count": 313,
   "metadata": {
    "scrolled": true
   },
   "outputs": [
    {
     "name": "stdout",
     "output_type": "stream",
     "text": [
      "iteration 0 / 500: loss 4.112381\n",
      "iteration 100 / 500: loss 3.984643\n",
      "iteration 200 / 500: loss 3.144011\n",
      "iteration 300 / 500: loss 2.682690\n",
      "iteration 400 / 500: loss 2.655197\n",
      "iteration 0 / 500: loss 2.642739\n",
      "iteration 100 / 500: loss 2.253672\n",
      "iteration 200 / 500: loss 2.283546\n",
      "iteration 300 / 500: loss 2.202824\n",
      "iteration 400 / 500: loss 2.199977\n",
      "iteration 0 / 500: loss 2.046386\n",
      "iteration 100 / 500: loss 1.925475\n",
      "iteration 200 / 500: loss 2.020598\n",
      "iteration 300 / 500: loss 2.002967\n",
      "iteration 400 / 500: loss 2.073383\n",
      "iteration 0 / 500: loss 1.817837\n",
      "iteration 100 / 500: loss 2.017488\n",
      "iteration 200 / 500: loss 1.796086\n",
      "iteration 300 / 500: loss 1.943547\n",
      "iteration 400 / 500: loss 1.845582\n",
      "iteration 0 / 500: loss 1.776981\n",
      "iteration 100 / 500: loss 1.878114\n",
      "iteration 200 / 500: loss 1.820994\n",
      "iteration 300 / 500: loss 1.951638\n",
      "iteration 400 / 500: loss 1.836857\n",
      "iteration 0 / 500: loss 1.843536\n",
      "iteration 100 / 500: loss 1.766103\n",
      "iteration 200 / 500: loss 1.831492\n",
      "iteration 300 / 500: loss 1.816832\n",
      "iteration 400 / 500: loss 1.949934\n",
      "iteration 0 / 500: loss 1.843906\n",
      "iteration 100 / 500: loss 1.817410\n",
      "iteration 200 / 500: loss 1.829171\n",
      "iteration 300 / 500: loss 1.912279\n",
      "iteration 400 / 500: loss 1.810716\n",
      "iteration 0 / 500: loss 1.979041\n",
      "iteration 100 / 500: loss 1.971827\n",
      "iteration 200 / 500: loss 1.848519\n",
      "iteration 300 / 500: loss 1.772479\n",
      "iteration 400 / 500: loss 1.796196\n",
      "iteration 0 / 500: loss 2.296265\n",
      "iteration 100 / 500: loss 2.222097\n",
      "iteration 200 / 500: loss 2.329231\n",
      "iteration 300 / 500: loss 2.240697\n",
      "iteration 400 / 500: loss 2.188278\n",
      "iteration 0 / 500: loss 1.837180\n",
      "iteration 100 / 500: loss 1.876551\n",
      "iteration 200 / 500: loss 1.814575\n",
      "iteration 300 / 500: loss 1.747409\n",
      "iteration 400 / 500: loss 1.754162\n",
      "iteration 0 / 500: loss 1.892249\n",
      "iteration 100 / 500: loss 1.870245\n",
      "iteration 200 / 500: loss 1.875873\n",
      "iteration 300 / 500: loss 1.766933\n",
      "iteration 400 / 500: loss 1.706039\n",
      "iteration 0 / 500: loss 1.879859\n",
      "iteration 100 / 500: loss 1.773781\n",
      "iteration 200 / 500: loss 1.793276\n",
      "iteration 300 / 500: loss 1.684523\n",
      "iteration 400 / 500: loss 1.692284\n",
      "iteration 0 / 500: loss 1.794243\n",
      "iteration 100 / 500: loss 1.803567\n",
      "iteration 200 / 500: loss 1.751894\n",
      "iteration 300 / 500: loss 1.867828\n",
      "iteration 400 / 500: loss 1.807333\n",
      "iteration 0 / 500: loss 1.879859\n",
      "iteration 100 / 500: loss 1.755931\n",
      "iteration 200 / 500: loss 1.842998\n",
      "iteration 300 / 500: loss 1.731738\n",
      "iteration 400 / 500: loss 1.896843\n",
      "iteration 0 / 500: loss 1.735687\n",
      "iteration 100 / 500: loss 1.898901\n",
      "iteration 200 / 500: loss 1.773809\n",
      "iteration 300 / 500: loss 1.759412\n",
      "iteration 400 / 500: loss 1.742697\n",
      "iteration 0 / 500: loss 1.745711\n",
      "iteration 100 / 500: loss 1.859447\n",
      "iteration 200 / 500: loss 1.818778\n",
      "iteration 300 / 500: loss 1.717650\n",
      "iteration 400 / 500: loss 1.643876\n",
      "iteration 0 / 500: loss 1.723798\n",
      "iteration 100 / 500: loss 1.830224\n",
      "iteration 200 / 500: loss 1.883748\n",
      "iteration 300 / 500: loss 1.850448\n",
      "iteration 400 / 500: loss 1.876199\n",
      "iteration 0 / 500: loss 2.576582\n",
      "iteration 100 / 500: loss 2.393929\n",
      "iteration 200 / 500: loss 2.398709\n",
      "iteration 300 / 500: loss 2.317136\n",
      "iteration 400 / 500: loss 2.244883\n",
      "iteration 0 / 500: loss 1.732184\n",
      "iteration 100 / 500: loss 1.779023\n",
      "iteration 200 / 500: loss 1.665021\n",
      "iteration 300 / 500: loss 1.706318\n",
      "iteration 400 / 500: loss 1.858877\n",
      "iteration 0 / 500: loss 1.824329\n",
      "iteration 100 / 500: loss 1.786275\n",
      "iteration 200 / 500: loss 1.792900\n",
      "iteration 300 / 500: loss 1.644052\n",
      "iteration 400 / 500: loss 1.801528\n",
      "iteration 0 / 500: loss 1.721315\n",
      "iteration 100 / 500: loss 1.744063\n",
      "iteration 200 / 500: loss 1.759137\n",
      "iteration 300 / 500: loss 1.800487\n",
      "iteration 400 / 500: loss 1.717980\n",
      "iteration 0 / 500: loss 1.835702\n",
      "iteration 100 / 500: loss 1.774362\n",
      "iteration 200 / 500: loss 1.758344\n",
      "iteration 300 / 500: loss 1.781625\n",
      "iteration 400 / 500: loss 1.702553\n",
      "iteration 0 / 500: loss 1.713355\n",
      "iteration 100 / 500: loss 1.661415\n",
      "iteration 200 / 500: loss 1.761743\n",
      "iteration 300 / 500: loss 1.761738\n",
      "iteration 400 / 500: loss 1.761898\n",
      "iteration 0 / 500: loss 1.715262\n",
      "iteration 100 / 500: loss 1.780218\n",
      "iteration 200 / 500: loss 1.675838\n",
      "iteration 300 / 500: loss 1.864806\n",
      "iteration 400 / 500: loss 1.711954\n",
      "iteration 0 / 500: loss 1.583053\n",
      "iteration 100 / 500: loss 1.626129\n",
      "iteration 200 / 500: loss 1.863017\n",
      "iteration 300 / 500: loss 1.859945\n",
      "iteration 400 / 500: loss 1.684671\n",
      "iteration 0 / 500: loss 1.865445\n",
      "iteration 100 / 500: loss 1.778085\n",
      "iteration 200 / 500: loss 1.872350\n",
      "iteration 300 / 500: loss 1.881952\n",
      "iteration 400 / 500: loss 1.820983\n",
      "iteration 0 / 500: loss 2.757908\n",
      "iteration 100 / 500: loss 2.598937\n",
      "iteration 200 / 500: loss 2.528429\n",
      "iteration 300 / 500: loss 2.448635\n",
      "iteration 400 / 500: loss 2.269769\n",
      "iteration 0 / 500: loss 1.787334\n",
      "iteration 100 / 500: loss 1.798338\n",
      "iteration 200 / 500: loss 1.687387\n",
      "iteration 300 / 500: loss 1.670151\n",
      "iteration 400 / 500: loss 1.679290\n",
      "iteration 0 / 500: loss 1.733460\n",
      "iteration 100 / 500: loss 1.667845\n",
      "iteration 200 / 500: loss 1.622580\n",
      "iteration 300 / 500: loss 1.796356\n",
      "iteration 400 / 500: loss 1.613687\n",
      "iteration 0 / 500: loss 1.660199\n",
      "iteration 100 / 500: loss 1.733159\n",
      "iteration 200 / 500: loss 1.720856\n",
      "iteration 300 / 500: loss 1.674959\n",
      "iteration 400 / 500: loss 1.683611\n",
      "iteration 0 / 500: loss 1.693992\n",
      "iteration 100 / 500: loss 1.695369\n",
      "iteration 200 / 500: loss 1.728520\n",
      "iteration 300 / 500: loss 1.723268\n",
      "iteration 400 / 500: loss 1.726149\n",
      "iteration 0 / 500: loss 1.599394\n",
      "iteration 100 / 500: loss 1.773858\n",
      "iteration 200 / 500: loss 1.766431\n",
      "iteration 300 / 500: loss 1.726434\n",
      "iteration 400 / 500: loss 1.725414\n",
      "iteration 0 / 500: loss 1.665868\n",
      "iteration 100 / 500: loss 1.656695\n",
      "iteration 200 / 500: loss 1.628775\n",
      "iteration 300 / 500: loss 1.722745\n",
      "iteration 400 / 500: loss 1.646176\n",
      "iteration 0 / 500: loss 1.811149\n",
      "iteration 100 / 500: loss 1.745497\n",
      "iteration 200 / 500: loss 1.613940\n",
      "iteration 300 / 500: loss 1.698278\n",
      "iteration 400 / 500: loss 1.662840\n",
      "iteration 0 / 500: loss 1.993839\n",
      "iteration 100 / 500: loss 1.986213\n",
      "iteration 200 / 500: loss 2.010457\n",
      "iteration 300 / 500: loss 2.020028\n",
      "iteration 400 / 500: loss 1.910341\n",
      "iteration 0 / 500: loss 3.828613\n",
      "iteration 100 / 500: loss 2.613412\n",
      "iteration 200 / 500: loss 2.344651\n",
      "iteration 300 / 500: loss 2.160262\n",
      "iteration 400 / 500: loss 2.048247\n",
      "iteration 0 / 500: loss 1.826754\n",
      "iteration 100 / 500: loss 1.792678\n",
      "iteration 200 / 500: loss 1.814483\n",
      "iteration 300 / 500: loss 1.853535\n",
      "iteration 400 / 500: loss 1.805926\n",
      "iteration 0 / 500: loss 1.820012\n",
      "iteration 100 / 500: loss 1.764556\n",
      "iteration 200 / 500: loss 1.711306\n",
      "iteration 300 / 500: loss 1.785938\n",
      "iteration 400 / 500: loss 1.798785\n",
      "iteration 0 / 500: loss 1.728207\n",
      "iteration 100 / 500: loss 1.766773\n",
      "iteration 200 / 500: loss 1.657737\n",
      "iteration 300 / 500: loss 1.770139\n",
      "iteration 400 / 500: loss 1.661373\n",
      "iteration 0 / 500: loss 1.704876\n",
      "iteration 100 / 500: loss 1.737907\n",
      "iteration 200 / 500: loss 1.663587\n",
      "iteration 300 / 500: loss 1.616714\n",
      "iteration 400 / 500: loss 1.586460\n",
      "iteration 0 / 500: loss 1.804970\n",
      "iteration 100 / 500: loss 1.723708\n",
      "iteration 200 / 500: loss 1.721508\n",
      "iteration 300 / 500: loss 1.633105\n",
      "iteration 400 / 500: loss 1.662141\n",
      "iteration 0 / 500: loss 1.686057\n",
      "iteration 100 / 500: loss 1.730349\n",
      "iteration 200 / 500: loss 1.716232\n",
      "iteration 300 / 500: loss 1.721066\n",
      "iteration 400 / 500: loss 1.645436\n",
      "iteration 0 / 500: loss 1.767550\n",
      "iteration 100 / 500: loss 1.693315\n",
      "iteration 200 / 500: loss 1.639016\n",
      "iteration 300 / 500: loss 1.760780\n",
      "iteration 400 / 500: loss 1.580483\n",
      "iteration 0 / 500: loss 2.110048\n",
      "iteration 100 / 500: loss 1.944712\n",
      "iteration 200 / 500: loss 1.878834\n",
      "iteration 300 / 500: loss 2.032872\n",
      "iteration 400 / 500: loss 1.881863\n",
      "iteration 0 / 500: loss 4.019977\n",
      "iteration 100 / 500: loss 2.289322\n",
      "iteration 200 / 500: loss 2.099167\n",
      "iteration 300 / 500: loss 2.116028\n",
      "iteration 400 / 500: loss 1.957484\n",
      "iteration 0 / 500: loss 1.898424\n",
      "iteration 100 / 500: loss 1.808458\n",
      "iteration 200 / 500: loss 1.922248\n",
      "iteration 300 / 500: loss 1.629880\n",
      "iteration 400 / 500: loss 1.780456\n",
      "iteration 0 / 500: loss 1.825891\n",
      "iteration 100 / 500: loss 1.631974\n",
      "iteration 200 / 500: loss 1.590181\n",
      "iteration 300 / 500: loss 1.644415\n",
      "iteration 400 / 500: loss 1.658420\n",
      "iteration 0 / 500: loss 1.907306\n",
      "iteration 100 / 500: loss 1.822924\n"
     ]
    },
    {
     "name": "stdout",
     "output_type": "stream",
     "text": [
      "iteration 200 / 500: loss 1.715607\n",
      "iteration 300 / 500: loss 1.698522\n",
      "iteration 400 / 500: loss 1.838047\n",
      "iteration 0 / 500: loss 1.751275\n",
      "iteration 100 / 500: loss 1.697459\n",
      "iteration 200 / 500: loss 1.705733\n",
      "iteration 300 / 500: loss 1.798626\n",
      "iteration 400 / 500: loss 1.794689\n",
      "iteration 0 / 500: loss 1.686174\n",
      "iteration 100 / 500: loss 1.679018\n",
      "iteration 200 / 500: loss 1.667663\n",
      "iteration 300 / 500: loss 1.690730\n",
      "iteration 400 / 500: loss 1.799947\n",
      "iteration 0 / 500: loss 1.741601\n",
      "iteration 100 / 500: loss 1.619880\n",
      "iteration 200 / 500: loss 1.560266\n",
      "iteration 300 / 500: loss 1.848911\n",
      "iteration 400 / 500: loss 1.670502\n",
      "iteration 0 / 500: loss 1.868738\n",
      "iteration 100 / 500: loss 1.842377\n",
      "iteration 200 / 500: loss 1.909515\n",
      "iteration 300 / 500: loss 1.736761\n",
      "iteration 400 / 500: loss 1.857224\n",
      "iteration 0 / 500: loss 3.040613\n",
      "iteration 100 / 500: loss 2.389271\n",
      "iteration 200 / 500: loss 2.129737\n",
      "iteration 300 / 500: loss 2.170231\n",
      "iteration 400 / 500: loss 1.971412\n",
      "iteration 0 / 500: loss 3.271898\n",
      "iteration 100 / 500: loss 2.065512\n",
      "iteration 200 / 500: loss 2.607946\n",
      "iteration 300 / 500: loss 2.236434\n",
      "iteration 400 / 500: loss 2.101848\n",
      "iteration 0 / 500: loss 2.095300\n",
      "iteration 100 / 500: loss 3.329373\n",
      "iteration 200 / 500: loss 3.636321\n",
      "iteration 300 / 500: loss 2.667324\n",
      "iteration 400 / 500: loss 2.507538\n",
      "iteration 0 / 500: loss 2.421267\n",
      "iteration 100 / 500: loss 2.751758\n",
      "iteration 200 / 500: loss 2.449206\n",
      "iteration 300 / 500: loss 2.638446\n",
      "iteration 400 / 500: loss 2.803330\n",
      "iteration 0 / 500: loss 2.527365\n",
      "iteration 100 / 500: loss 2.517207\n",
      "iteration 200 / 500: loss 2.498239\n",
      "iteration 300 / 500: loss 3.023786\n",
      "iteration 400 / 500: loss 2.898301\n",
      "iteration 0 / 500: loss 2.300463\n",
      "iteration 100 / 500: loss 2.768288\n",
      "iteration 200 / 500: loss 2.407373\n",
      "iteration 300 / 500: loss 2.818395\n",
      "iteration 400 / 500: loss 2.438515\n",
      "iteration 0 / 500: loss 2.361405\n",
      "iteration 100 / 500: loss 2.255473\n",
      "iteration 200 / 500: loss 2.174776\n",
      "iteration 300 / 500: loss 2.608150\n",
      "iteration 400 / 500: loss 3.903620\n",
      "iteration 0 / 500: loss 2.806165\n",
      "iteration 100 / 500: loss 2.480538\n",
      "iteration 200 / 500: loss 2.650355\n",
      "iteration 300 / 500: loss 3.117585\n",
      "iteration 400 / 500: loss 2.835017\n",
      "iteration 0 / 500: loss 3.133346\n",
      "iteration 100 / 500: loss 2.933365\n",
      "iteration 200 / 500: loss 2.889532\n",
      "iteration 300 / 500: loss 2.534344\n",
      "iteration 400 / 500: loss 3.046360\n",
      "iteration 0 / 500: loss 4.947404\n",
      "iteration 100 / 500: loss 4.068966\n",
      "iteration 200 / 500: loss 2.990242\n",
      "iteration 300 / 500: loss 3.893161\n",
      "iteration 400 / 500: loss 3.083859\n",
      "iteration 0 / 500: loss 6.363154\n",
      "iteration 100 / 500: loss 5.505176\n",
      "iteration 200 / 500: loss 4.548159\n",
      "iteration 300 / 500: loss 5.348792\n",
      "iteration 400 / 500: loss 3.261749\n",
      "lr 1.000000e-08 reg 1.000000e-04 train accuracy: 0.282417 val accuracy: 0.278000\n",
      "lr 1.000000e-08 reg 1.000000e-03 train accuracy: 0.323500 val accuracy: 0.328000\n",
      "lr 1.000000e-08 reg 1.000000e-02 train accuracy: 0.348208 val accuracy: 0.352000\n",
      "lr 1.000000e-08 reg 1.000000e-01 train accuracy: 0.356375 val accuracy: 0.347000\n",
      "lr 1.000000e-08 reg 1.000000e+00 train accuracy: 0.361958 val accuracy: 0.353000\n",
      "lr 1.000000e-08 reg 1.000000e+01 train accuracy: 0.364917 val accuracy: 0.356000\n",
      "lr 1.000000e-08 reg 1.000000e+02 train accuracy: 0.368479 val accuracy: 0.361000\n",
      "lr 1.000000e-08 reg 1.000000e+03 train accuracy: 0.370708 val accuracy: 0.365000\n",
      "lr 1.000000e-08 reg 1.000000e+04 train accuracy: 0.372229 val accuracy: 0.367000\n",
      "lr 5.000000e-08 reg 1.000000e-04 train accuracy: 0.381437 val accuracy: 0.379000\n",
      "lr 5.000000e-08 reg 1.000000e-03 train accuracy: 0.386271 val accuracy: 0.384000\n",
      "lr 5.000000e-08 reg 1.000000e-02 train accuracy: 0.390937 val accuracy: 0.393000\n",
      "lr 5.000000e-08 reg 1.000000e-01 train accuracy: 0.394333 val accuracy: 0.391000\n",
      "lr 5.000000e-08 reg 1.000000e+00 train accuracy: 0.396375 val accuracy: 0.391000\n",
      "lr 5.000000e-08 reg 1.000000e+01 train accuracy: 0.397833 val accuracy: 0.400000\n",
      "lr 5.000000e-08 reg 1.000000e+02 train accuracy: 0.399875 val accuracy: 0.402000\n",
      "lr 5.000000e-08 reg 1.000000e+03 train accuracy: 0.400687 val accuracy: 0.398000\n",
      "lr 5.000000e-08 reg 1.000000e+04 train accuracy: 0.399354 val accuracy: 0.395000\n",
      "lr 1.000000e-07 reg 1.000000e-04 train accuracy: 0.399896 val accuracy: 0.392000\n",
      "lr 1.000000e-07 reg 1.000000e-03 train accuracy: 0.403771 val accuracy: 0.400000\n",
      "lr 1.000000e-07 reg 1.000000e-02 train accuracy: 0.406229 val accuracy: 0.393000\n",
      "lr 1.000000e-07 reg 1.000000e-01 train accuracy: 0.406979 val accuracy: 0.406000\n",
      "lr 1.000000e-07 reg 1.000000e+00 train accuracy: 0.410167 val accuracy: 0.408000\n",
      "lr 1.000000e-07 reg 1.000000e+01 train accuracy: 0.411396 val accuracy: 0.411000\n",
      "lr 1.000000e-07 reg 1.000000e+02 train accuracy: 0.411562 val accuracy: 0.413000\n",
      "lr 1.000000e-07 reg 1.000000e+03 train accuracy: 0.414083 val accuracy: 0.409000\n",
      "lr 1.000000e-07 reg 1.000000e+04 train accuracy: 0.403875 val accuracy: 0.390000\n",
      "lr 5.000000e-07 reg 1.000000e-04 train accuracy: 0.412313 val accuracy: 0.411000\n",
      "lr 5.000000e-07 reg 1.000000e-03 train accuracy: 0.419375 val accuracy: 0.413000\n",
      "lr 5.000000e-07 reg 1.000000e-02 train accuracy: 0.423021 val accuracy: 0.420000\n",
      "lr 5.000000e-07 reg 1.000000e-01 train accuracy: 0.426250 val accuracy: 0.419000\n",
      "lr 5.000000e-07 reg 1.000000e+00 train accuracy: 0.424583 val accuracy: 0.406000\n",
      "lr 5.000000e-07 reg 1.000000e+01 train accuracy: 0.428500 val accuracy: 0.419000\n",
      "lr 5.000000e-07 reg 1.000000e+02 train accuracy: 0.427354 val accuracy: 0.413000\n",
      "lr 5.000000e-07 reg 1.000000e+03 train accuracy: 0.427896 val accuracy: 0.417000\n",
      "lr 5.000000e-07 reg 1.000000e+04 train accuracy: 0.377958 val accuracy: 0.369000\n",
      "lr 1.000000e-06 reg 1.000000e-04 train accuracy: 0.405313 val accuracy: 0.404000\n",
      "lr 1.000000e-06 reg 1.000000e-03 train accuracy: 0.418521 val accuracy: 0.403000\n",
      "lr 1.000000e-06 reg 1.000000e-02 train accuracy: 0.419063 val accuracy: 0.414000\n",
      "lr 1.000000e-06 reg 1.000000e-01 train accuracy: 0.428792 val accuracy: 0.424000\n",
      "lr 1.000000e-06 reg 1.000000e+00 train accuracy: 0.426542 val accuracy: 0.425000\n",
      "lr 1.000000e-06 reg 1.000000e+01 train accuracy: 0.433437 val accuracy: 0.435000\n",
      "lr 1.000000e-06 reg 1.000000e+02 train accuracy: 0.433021 val accuracy: 0.415000\n",
      "lr 1.000000e-06 reg 1.000000e+03 train accuracy: 0.424563 val accuracy: 0.417000\n",
      "lr 1.000000e-06 reg 1.000000e+04 train accuracy: 0.368750 val accuracy: 0.369000\n",
      "lr 5.000000e-06 reg 1.000000e-04 train accuracy: 0.366896 val accuracy: 0.347000\n",
      "lr 5.000000e-06 reg 1.000000e-03 train accuracy: 0.415917 val accuracy: 0.389000\n",
      "lr 5.000000e-06 reg 1.000000e-02 train accuracy: 0.399646 val accuracy: 0.391000\n",
      "lr 5.000000e-06 reg 1.000000e-01 train accuracy: 0.425875 val accuracy: 0.403000\n",
      "lr 5.000000e-06 reg 1.000000e+00 train accuracy: 0.404292 val accuracy: 0.353000\n",
      "lr 5.000000e-06 reg 1.000000e+01 train accuracy: 0.411896 val accuracy: 0.372000\n",
      "lr 5.000000e-06 reg 1.000000e+02 train accuracy: 0.429333 val accuracy: 0.378000\n",
      "lr 5.000000e-06 reg 1.000000e+03 train accuracy: 0.380625 val accuracy: 0.371000\n",
      "lr 5.000000e-06 reg 1.000000e+04 train accuracy: 0.299500 val accuracy: 0.322000\n",
      "lr 1.000000e-05 reg 1.000000e-04 train accuracy: 0.336313 val accuracy: 0.317000\n",
      "lr 1.000000e-05 reg 1.000000e-03 train accuracy: 0.318021 val accuracy: 0.285000\n",
      "lr 1.000000e-05 reg 1.000000e-02 train accuracy: 0.357438 val accuracy: 0.314000\n",
      "lr 1.000000e-05 reg 1.000000e-01 train accuracy: 0.374688 val accuracy: 0.345000\n",
      "lr 1.000000e-05 reg 1.000000e+00 train accuracy: 0.349438 val accuracy: 0.316000\n",
      "lr 1.000000e-05 reg 1.000000e+01 train accuracy: 0.356771 val accuracy: 0.327000\n",
      "lr 1.000000e-05 reg 1.000000e+02 train accuracy: 0.344667 val accuracy: 0.309000\n",
      "lr 1.000000e-05 reg 1.000000e+03 train accuracy: 0.257375 val accuracy: 0.268000\n",
      "lr 1.000000e-05 reg 1.000000e+04 train accuracy: 0.230479 val accuracy: 0.241000\n",
      "best validation accuracy achieved during validation: 0.435000\n"
     ]
    }
   ],
   "source": [
    "from dl4cv.classifiers import Softmax\n",
    "\n",
    "# results is dictionary mapping tuples of the form\n",
    "# (learning_rate, regularization_strength) to tuples of the form\n",
    "# (training_accuracy, validation_accuracy). The accuracy is simply the fraction\n",
    "# of data points that are correctly classified.\n",
    "results = {}\n",
    "best_val = -1\n",
    "best_softmax = None\n",
    "all_classifiers = []\n",
    "learning_rates = [1e-8, 5e-8, 1e-7, 5e-7, 1e-6, 5e-6, 1e-5]\n",
    "regularization_strengths = [1e-4, 1e-3, 1e-2, 1e-1, 1, 1e1, 1e2, 1e3, 1e4]\n",
    "\n",
    "################################################################################\n",
    "# TODO:                                                                        #\n",
    "# Write code that chooses the best hyperparameters by tuning on the validation #\n",
    "# set. For each combination of hyperparameters, train a classifier on the      #\n",
    "# training set, compute its accuracy on the training and validation sets, and  #\n",
    "# store these numbers in the results dictionary. In addition, store the best   #\n",
    "# validation accuracy in best_val and the Softmax object that achieves this    #\n",
    "# accuracy in best_softmax.                                                    #\n",
    "#                                                                              #\n",
    "# Hint: You should use a small value for num_iters as you develop your         #\n",
    "# validation code so that the classifiers don't take much time to train;       # \n",
    "# once you are confident that your validation code works, you should rerun     #\n",
    "# the validation code with a larger value for num_iters.                       #\n",
    "################################################################################\n",
    "\n",
    "for learning_rate in learning_rates:\n",
    "    for regularization_strength in regularization_strengths:\n",
    "        all_classifiers.append(softmax.train(X_train, y_train, learning_rate, regularization_strength, num_iters=500, verbose=True))\n",
    "        y_train_pred = softmax.predict(X_train)\n",
    "        y_val_pred = softmax.predict(X_val)\n",
    "        train_acc = np.mean(y_train == y_train_pred)\n",
    "        val_acc = np.mean(y_val == y_val_pred)\n",
    "        results[(learning_rate, regularization_strength)] = (train_acc, val_acc)\n",
    "        if val_acc > best_val:\n",
    "            best_val = val_acc\n",
    "            best_softmax = softmax\n",
    "################################################################################\n",
    "#                              END OF YOUR CODE                                #\n",
    "################################################################################\n",
    "    \n",
    "# Print out results.\n",
    "for (lr, reg) in sorted(results):\n",
    "    train_accuracy, val_accuracy = results[(lr, reg)]\n",
    "    print('lr %e reg %e train accuracy: %f val accuracy: %f' % (\n",
    "          lr, reg, train_accuracy, val_accuracy))\n",
    "    \n",
    "print('best validation accuracy achieved during validation: %f' % best_val)"
   ]
  },
  {
   "cell_type": "code",
   "execution_count": 314,
   "metadata": {},
   "outputs": [
    {
     "data": {
      "image/png": "[encoded data removed]",
      "text/plain": [
       "<matplotlib.figure.Figure at 0x251805bb320>"
      ]
     },
     "metadata": {},
     "output_type": "display_data"
    }
   ],
   "source": [
    "# Visualize the validation results\n",
    "x_scatter = [math.log10(x[0]) for x in results]\n",
    "y_scatter = [math.log10(x[1]) for x in results]\n",
    "\n",
    "# plot training accuracy\n",
    "marker_size = 100\n",
    "colors = [results[x][0] for x in results]\n",
    "plt.subplot(2, 1, 1)\n",
    "plt.scatter(x_scatter, y_scatter, marker_size, c=colors)\n",
    "plt.colorbar()\n",
    "plt.xlabel('log learning rate')\n",
    "plt.ylabel('log regularization strength')\n",
    "plt.title('CIFAR-10 training accuracy')\n",
    "\n",
    "# plot validation accuracy\n",
    "colors = [results[x][1] for x in results] # default size of markers is 20\n",
    "plt.subplot(2, 1, 2)\n",
    "plt.scatter(x_scatter, y_scatter, marker_size, c=colors)\n",
    "plt.colorbar()\n",
    "plt.xlabel('log learning rate')\n",
    "plt.ylabel('log regularization strength')\n",
    "plt.title('CIFAR-10 validation accuracy')\n",
    "\n",
    "plt.tight_layout()\n",
    "plt.show()"
   ]
  },
  {
   "cell_type": "code",
   "execution_count": 315,
   "metadata": {
    "collapsed": true
   },
   "outputs": [],
   "source": [
    "# if you want to take a look at the other classifiers assign them to best_softmax here\n",
    "sorted_classifiers = sorted(all_classifiers, key=lambda x : x[1])\n",
    "#best_softmax = sorted_classifiers[-1][0]"
   ]
  },
  {
   "cell_type": "code",
   "execution_count": 316,
   "metadata": {},
   "outputs": [
    {
     "name": "stdout",
     "output_type": "stream",
     "text": [
      "softmax on raw pixels final test set accuracy: 0.237000\n"
     ]
    }
   ],
   "source": [
    "# evaluate on test set\n",
    "# Evaluate the best softmax on test set\n",
    "y_test_pred = best_softmax.predict(X_test)\n",
    "test_accuracy = np.mean(y_test == y_test_pred)\n",
    "print('softmax on raw pixels final test set accuracy: %f' % (test_accuracy, ))"
   ]
  },
  {
   "cell_type": "code",
   "execution_count": 283,
   "metadata": {
    "scrolled": false
   },
   "outputs": [
    {
     "data": {
      "image/png": "[encoded data removed]",
      "text/plain": [
       "<matplotlib.figure.Figure at 0x251e02c7c50>"
      ]
     },
     "metadata": {},
     "output_type": "display_data"
    }
   ],
   "source": [
    "# Visualize the learned weights for each class\n",
    "#best_softmax = sorted_classifiers[idx][0]\n",
    "w = best_softmax.W[:-1,:] # strip out the bias\n",
    "w = w.reshape(32, 32, 3, 10)\n",
    "\n",
    "w_min, w_max = np.min(w), np.max(w)\n",
    "\n",
    "classes = ['plane', 'car', 'bird', 'cat', 'deer', 'dog', 'frog', 'horse', 'ship', 'truck']\n",
    "for i in range(10):\n",
    "  plt.subplot(2, 5, i + 1)\n",
    "\n",
    "  # Rescale the weights to be between 0 and 255\n",
    "  wimg = 255.0 * (w[:, :, :, i].squeeze() - w_min) / (w_max - w_min)\n",
    "  plt.imshow(wimg.astype('uint8'))\n",
    "  plt.axis('off')\n",
    "  plt.title(classes[i])"
   ]
  },
  {
   "cell_type": "markdown",
   "metadata": {},
   "source": [
    "<div class=\"alert alert-info\">\n",
    "    <h3>Inline Question</h3>\n",
    "    <p>Describe what your visualized Softmax weights look like.</p>\n",
    "</div>"
   ]
  },
  {
   "cell_type": "markdown",
   "metadata": {},
   "source": [
    "## Save the model\n",
    "\n",
    "When you are satisfied with your training, save the model for submission.\n",
    "\n",
    "<div class=\"alert alert-danger\">\n",
    "    <h3>Warning</h3>\n",
    "    <p>You might get an error like this:</p>\n",
    "    <p>PicklingError: Can't pickle `<class 'dl4cv.classifiers.linear_classifier.Softmax'>`: it's not the same object as dl4cv.classifiers.linear_classifier.Softmax</p>\n",
    "    <p>The reason is that we are using autoreload and working on this class during the notebook session. If you get this error simply restart the kernel and rerun the whole script (Kernel -> Restart & Run All) or only the important cells for generating your model.</p>\n",
    "</div>"
   ]
  },
  {
   "cell_type": "code",
   "execution_count": null,
   "metadata": {
    "collapsed": true
   },
   "outputs": [],
   "source": [
    "from dl4cv.model_savers import save_softmax_classifier\n",
    "from dl4cv.classifiers import Softmax\n",
    "\n",
    "save_softmax_classifier(best_softmax)"
   ]
  },
  {
   "cell_type": "markdown",
   "metadata": {},
   "source": [
    "## Scoring function\n",
    "We will score the model you have just saved based on the classification accuracy on our test dataset. The scoring function should represent the difficulty of obtaining a good test accuracy and should therefore give 0 points for worse results than random guessing, should be linear in a first regime and exponential beyond that. The onset of exponential growth depends on the problem. In that region you get twice as many points for an additional 10% accuracy.\n",
    "\n",
    "For this problem we specifically use the following scoring function:\n",
    "\n",
    "$$f(x) = \\left\\{\n",
    "\t\\begin{array}{ll}\n",
    "\t\t0  & \\mbox{if } x \\leq 0.1 \\\\\n",
    "\t\t100x & \\mbox{if } 0.1 < x \\leq 0.38 \\\\\n",
    "        \\left(\\frac{38}{\\exp(0.38 \\ln(2)/0.1)}\\right) \\exp(x \\ln(2)/0.1) & \\mbox{if } 0.38 < x \\leq 1\n",
    "\t\\end{array}\n",
    "\\right.$$\n",
    "\n",
    "The function can be plotted in the following cell."
   ]
  },
  {
   "cell_type": "code",
   "execution_count": null,
   "metadata": {
    "collapsed": true
   },
   "outputs": [],
   "source": [
    "from dl4cv.data_utils import scoring_function\n",
    "\n",
    "x = np.linspace(0, 1, num=1000)\n",
    "plt.plot(x, scoring_function(x, lin_exp_boundary=0.38, doubling_rate=0.1))\n",
    "plt.title('Scoring Function')\n",
    "plt.xlabel('Test Accuracy')\n",
    "plt.ylabel('Score')\n",
    "plt.show()"
   ]
  }
 ],
 "metadata": {
  "kernelspec": {
   "display_name": "Python 3",
   "language": "python",
   "name": "python3"
  },
  "language_info": {
   "codemirror_mode": {
    "name": "ipython",
    "version": 3
   },
   "file_extension": ".py",
   "mimetype": "text/x-python",
   "name": "python",
   "nbconvert_exporter": "python",
   "pygments_lexer": "ipython3",
   "version": "3.6.3"
  }
 },
 "nbformat": 4,
 "nbformat_minor": 1
}
